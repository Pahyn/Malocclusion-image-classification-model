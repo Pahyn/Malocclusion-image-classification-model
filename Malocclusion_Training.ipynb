{
  "nbformat": 4,
  "nbformat_minor": 0,
  "metadata": {
    "colab": {
      "provenance": [],
      "gpuType": "T4",
      "authorship_tag": "ABX9TyNHh9wcoKvITTR+7EqBM/Mq"
    },
    "kernelspec": {
      "name": "python3",
      "display_name": "Python 3"
    },
    "language_info": {
      "name": "python"
    },
    "accelerator": "GPU"
  },
  "cells": [
    {
      "cell_type": "code",
      "execution_count": 1,
      "metadata": {
        "colab": {
          "base_uri": "https://localhost:8080/"
        },
        "id": "FyV1REp8h4Y1",
        "outputId": "f499f5df-a187-439e-c169-02a5fb4115cb"
      },
      "outputs": [
        {
          "output_type": "stream",
          "name": "stdout",
          "text": [
            "Drive already mounted at /content/gdrive; to attempt to forcibly remount, call drive.mount(\"/content/gdrive\", force_remount=True).\n"
          ]
        }
      ],
      "source": [
        "from google.colab import drive\n",
        "drive.mount(\"/content/gdrive\")"
      ]
    },
    {
      "cell_type": "code",
      "source": [
        "import numpy as np # linear algebra\n",
        "import pandas as pd # data processing, CSV file I/O (e.g. pd.read_csv)\n",
        "import cv2\n",
        "import matplotlib.pyplot as plt\n",
        "import matplotlib.cm as cm\n",
        "import matplotlib as m\n",
        "import os\n",
        "#IMPORTANT\n",
        "#use legacy keras(3.8.0) version because of compatibility issues with of tfjs (4.22.0)\n",
        "#Must be called before importing tensorflow\n",
        "os.environ[\"TF_USE_LEGACY_KERAS\"] = \"1\"\n",
        "import tensorflow as tf\n",
        "import datetime\n",
        "\n",
        "from sklearn import preprocessing\n",
        "from sklearn.model_selection import train_test_split\n",
        "from tensorflow.keras.preprocessing.image import ImageDataGenerator\n",
        "from keras.utils import to_categorical\n",
        "\n",
        "from tensorflow.keras import saving\n",
        "from tensorflow.keras.models import load_model\n",
        "\n",
        "from keras.models import Sequential, Model\n",
        "from keras.layers import Multiply, Permute, Activation, Conv2DTranspose\n",
        "from keras.layers import Conv2D, MaxPooling2D, Activation, Dropout, Flatten, Dense, BatchNormalization, Input, Reshape, Multiply\n",
        "from keras.regularizers import l2\n",
        "\n",
        "from tensorflow.python.keras.callbacks import EarlyStopping, ReduceLROnPlateau, ModelCheckpoint\n",
        "import seaborn as sns\n",
        "from sklearn.metrics import confusion_matrix,classification_report\n",
        "\n",
        "from collections import Counter"
      ],
      "metadata": {
        "id": "MHGPuDaljGPm"
      },
      "execution_count": 2,
      "outputs": []
    },
    {
      "cell_type": "code",
      "source": [
        "!pip install tensorflowjs"
      ],
      "metadata": {
        "id": "njyUHxHG_72_"
      },
      "execution_count": null,
      "outputs": []
    },
    {
      "cell_type": "code",
      "source": [
        "loc = '/content/gdrive/My Drive/Colab Notebooks/Kelas Basic/input/Malocclusion2'\n",
        "loc1 = '/content/gdrive/My Drive/Colab Notebooks/Kelas Basic/input/Malocclusion'\n",
        "model_loc = '/content/gdrive/My Drive/Colab Notebooks/Kelas Basic/'\n",
        "\n",
        "dataset1 = pd.read_excel(loc+'/Label_SI.xlsx')\n",
        "dataset2 = pd.read_excel(loc1+'/Label_SI.xlsx')\n",
        "dataset1.head() # display first 5 row data"
      ],
      "metadata": {
        "colab": {
          "base_uri": "https://localhost:8080/",
          "height": 206
        },
        "cellView": "code",
        "id": "OEYYuhEHjNmB",
        "outputId": "1886540c-661f-41b2-8933-b531b64c9acd"
      },
      "execution_count": 6,
      "outputs": [
        {
          "output_type": "execute_result",
          "data": {
            "text/plain": [
              "                                    NAMA    RN GENDER  NO XRAY  AGE   SK  \\\n",
              "0                      ALIAH ABDUL AZIZ    266      F        2   20  1.0   \n",
              "1    AAISYAH NAADHIRAH BINTI MOHD ZAID    1544      F        5   19  1.0   \n",
              "2                ABDUL MUIZ BIN LOKMAN    6107      F        6   19  1.0   \n",
              "3                       ADAWIYA ISMAIL    5488      F        7   23  3.0   \n",
              "4  ADIBAH HAWAYA BINTI AL KHIRUL NIZAM    1088      F        8   13  1.0   \n",
              "\n",
              "  INCISOR CANINE  MOLAR RACE  \n",
              "0  2 DIV1    NaN  R1 L1    M  \n",
              "1       1  R3 L2  R2 L1    M  \n",
              "2       1  R3 L2  R2 L1    M  \n",
              "3       3  R2 L3  R- L3    M  \n",
              "4       1    NaN    NaN    M  "
            ],
            "text/html": [
              "\n",
              "  <div id=\"df-23c55ec2-a1a0-487e-9c41-4402e691947e\" class=\"colab-df-container\">\n",
              "    <div>\n",
              "<style scoped>\n",
              "    .dataframe tbody tr th:only-of-type {\n",
              "        vertical-align: middle;\n",
              "    }\n",
              "\n",
              "    .dataframe tbody tr th {\n",
              "        vertical-align: top;\n",
              "    }\n",
              "\n",
              "    .dataframe thead th {\n",
              "        text-align: right;\n",
              "    }\n",
              "</style>\n",
              "<table border=\"1\" class=\"dataframe\">\n",
              "  <thead>\n",
              "    <tr style=\"text-align: right;\">\n",
              "      <th></th>\n",
              "      <th>NAMA</th>\n",
              "      <th>RN</th>\n",
              "      <th>GENDER</th>\n",
              "      <th>NO XRAY</th>\n",
              "      <th>AGE</th>\n",
              "      <th>SK</th>\n",
              "      <th>INCISOR</th>\n",
              "      <th>CANINE</th>\n",
              "      <th>MOLAR</th>\n",
              "      <th>RACE</th>\n",
              "    </tr>\n",
              "  </thead>\n",
              "  <tbody>\n",
              "    <tr>\n",
              "      <th>0</th>\n",
              "      <td>ALIAH ABDUL AZIZ</td>\n",
              "      <td>266</td>\n",
              "      <td>F</td>\n",
              "      <td>2</td>\n",
              "      <td>20</td>\n",
              "      <td>1.0</td>\n",
              "      <td>2 DIV1</td>\n",
              "      <td>NaN</td>\n",
              "      <td>R1 L1</td>\n",
              "      <td>M</td>\n",
              "    </tr>\n",
              "    <tr>\n",
              "      <th>1</th>\n",
              "      <td>AAISYAH NAADHIRAH BINTI MOHD ZAID</td>\n",
              "      <td>1544</td>\n",
              "      <td>F</td>\n",
              "      <td>5</td>\n",
              "      <td>19</td>\n",
              "      <td>1.0</td>\n",
              "      <td>1</td>\n",
              "      <td>R3 L2</td>\n",
              "      <td>R2 L1</td>\n",
              "      <td>M</td>\n",
              "    </tr>\n",
              "    <tr>\n",
              "      <th>2</th>\n",
              "      <td>ABDUL MUIZ BIN LOKMAN</td>\n",
              "      <td>6107</td>\n",
              "      <td>F</td>\n",
              "      <td>6</td>\n",
              "      <td>19</td>\n",
              "      <td>1.0</td>\n",
              "      <td>1</td>\n",
              "      <td>R3 L2</td>\n",
              "      <td>R2 L1</td>\n",
              "      <td>M</td>\n",
              "    </tr>\n",
              "    <tr>\n",
              "      <th>3</th>\n",
              "      <td>ADAWIYA ISMAIL</td>\n",
              "      <td>5488</td>\n",
              "      <td>F</td>\n",
              "      <td>7</td>\n",
              "      <td>23</td>\n",
              "      <td>3.0</td>\n",
              "      <td>3</td>\n",
              "      <td>R2 L3</td>\n",
              "      <td>R- L3</td>\n",
              "      <td>M</td>\n",
              "    </tr>\n",
              "    <tr>\n",
              "      <th>4</th>\n",
              "      <td>ADIBAH HAWAYA BINTI AL KHIRUL NIZAM</td>\n",
              "      <td>1088</td>\n",
              "      <td>F</td>\n",
              "      <td>8</td>\n",
              "      <td>13</td>\n",
              "      <td>1.0</td>\n",
              "      <td>1</td>\n",
              "      <td>NaN</td>\n",
              "      <td>NaN</td>\n",
              "      <td>M</td>\n",
              "    </tr>\n",
              "  </tbody>\n",
              "</table>\n",
              "</div>\n",
              "    <div class=\"colab-df-buttons\">\n",
              "\n",
              "  <div class=\"colab-df-container\">\n",
              "    <button class=\"colab-df-convert\" onclick=\"convertToInteractive('df-23c55ec2-a1a0-487e-9c41-4402e691947e')\"\n",
              "            title=\"Convert this dataframe to an interactive table.\"\n",
              "            style=\"display:none;\">\n",
              "\n",
              "  <svg xmlns=\"http://www.w3.org/2000/svg\" height=\"24px\" viewBox=\"0 -960 960 960\">\n",
              "    <path d=\"M120-120v-720h720v720H120Zm60-500h600v-160H180v160Zm220 220h160v-160H400v160Zm0 220h160v-160H400v160ZM180-400h160v-160H180v160Zm440 0h160v-160H620v160ZM180-180h160v-160H180v160Zm440 0h160v-160H620v160Z\"/>\n",
              "  </svg>\n",
              "    </button>\n",
              "\n",
              "  <style>\n",
              "    .colab-df-container {\n",
              "      display:flex;\n",
              "      gap: 12px;\n",
              "    }\n",
              "\n",
              "    .colab-df-convert {\n",
              "      background-color: #E8F0FE;\n",
              "      border: none;\n",
              "      border-radius: 50%;\n",
              "      cursor: pointer;\n",
              "      display: none;\n",
              "      fill: #1967D2;\n",
              "      height: 32px;\n",
              "      padding: 0 0 0 0;\n",
              "      width: 32px;\n",
              "    }\n",
              "\n",
              "    .colab-df-convert:hover {\n",
              "      background-color: #E2EBFA;\n",
              "      box-shadow: 0px 1px 2px rgba(60, 64, 67, 0.3), 0px 1px 3px 1px rgba(60, 64, 67, 0.15);\n",
              "      fill: #174EA6;\n",
              "    }\n",
              "\n",
              "    .colab-df-buttons div {\n",
              "      margin-bottom: 4px;\n",
              "    }\n",
              "\n",
              "    [theme=dark] .colab-df-convert {\n",
              "      background-color: #3B4455;\n",
              "      fill: #D2E3FC;\n",
              "    }\n",
              "\n",
              "    [theme=dark] .colab-df-convert:hover {\n",
              "      background-color: #434B5C;\n",
              "      box-shadow: 0px 1px 3px 1px rgba(0, 0, 0, 0.15);\n",
              "      filter: drop-shadow(0px 1px 2px rgba(0, 0, 0, 0.3));\n",
              "      fill: #FFFFFF;\n",
              "    }\n",
              "  </style>\n",
              "\n",
              "    <script>\n",
              "      const buttonEl =\n",
              "        document.querySelector('#df-23c55ec2-a1a0-487e-9c41-4402e691947e button.colab-df-convert');\n",
              "      buttonEl.style.display =\n",
              "        google.colab.kernel.accessAllowed ? 'block' : 'none';\n",
              "\n",
              "      async function convertToInteractive(key) {\n",
              "        const element = document.querySelector('#df-23c55ec2-a1a0-487e-9c41-4402e691947e');\n",
              "        const dataTable =\n",
              "          await google.colab.kernel.invokeFunction('convertToInteractive',\n",
              "                                                    [key], {});\n",
              "        if (!dataTable) return;\n",
              "\n",
              "        const docLinkHtml = 'Like what you see? Visit the ' +\n",
              "          '<a target=\"_blank\" href=https://colab.research.google.com/notebooks/data_table.ipynb>data table notebook</a>'\n",
              "          + ' to learn more about interactive tables.';\n",
              "        element.innerHTML = '';\n",
              "        dataTable['output_type'] = 'display_data';\n",
              "        await google.colab.output.renderOutput(dataTable, element);\n",
              "        const docLink = document.createElement('div');\n",
              "        docLink.innerHTML = docLinkHtml;\n",
              "        element.appendChild(docLink);\n",
              "      }\n",
              "    </script>\n",
              "  </div>\n",
              "\n",
              "\n",
              "<div id=\"df-60a4a143-3ea4-48e6-8d1c-f56f246e2350\">\n",
              "  <button class=\"colab-df-quickchart\" onclick=\"quickchart('df-60a4a143-3ea4-48e6-8d1c-f56f246e2350')\"\n",
              "            title=\"Suggest charts\"\n",
              "            style=\"display:none;\">\n",
              "\n",
              "<svg xmlns=\"http://www.w3.org/2000/svg\" height=\"24px\"viewBox=\"0 0 24 24\"\n",
              "     width=\"24px\">\n",
              "    <g>\n",
              "        <path d=\"M19 3H5c-1.1 0-2 .9-2 2v14c0 1.1.9 2 2 2h14c1.1 0 2-.9 2-2V5c0-1.1-.9-2-2-2zM9 17H7v-7h2v7zm4 0h-2V7h2v10zm4 0h-2v-4h2v4z\"/>\n",
              "    </g>\n",
              "</svg>\n",
              "  </button>\n",
              "\n",
              "<style>\n",
              "  .colab-df-quickchart {\n",
              "      --bg-color: #E8F0FE;\n",
              "      --fill-color: #1967D2;\n",
              "      --hover-bg-color: #E2EBFA;\n",
              "      --hover-fill-color: #174EA6;\n",
              "      --disabled-fill-color: #AAA;\n",
              "      --disabled-bg-color: #DDD;\n",
              "  }\n",
              "\n",
              "  [theme=dark] .colab-df-quickchart {\n",
              "      --bg-color: #3B4455;\n",
              "      --fill-color: #D2E3FC;\n",
              "      --hover-bg-color: #434B5C;\n",
              "      --hover-fill-color: #FFFFFF;\n",
              "      --disabled-bg-color: #3B4455;\n",
              "      --disabled-fill-color: #666;\n",
              "  }\n",
              "\n",
              "  .colab-df-quickchart {\n",
              "    background-color: var(--bg-color);\n",
              "    border: none;\n",
              "    border-radius: 50%;\n",
              "    cursor: pointer;\n",
              "    display: none;\n",
              "    fill: var(--fill-color);\n",
              "    height: 32px;\n",
              "    padding: 0;\n",
              "    width: 32px;\n",
              "  }\n",
              "\n",
              "  .colab-df-quickchart:hover {\n",
              "    background-color: var(--hover-bg-color);\n",
              "    box-shadow: 0 1px 2px rgba(60, 64, 67, 0.3), 0 1px 3px 1px rgba(60, 64, 67, 0.15);\n",
              "    fill: var(--button-hover-fill-color);\n",
              "  }\n",
              "\n",
              "  .colab-df-quickchart-complete:disabled,\n",
              "  .colab-df-quickchart-complete:disabled:hover {\n",
              "    background-color: var(--disabled-bg-color);\n",
              "    fill: var(--disabled-fill-color);\n",
              "    box-shadow: none;\n",
              "  }\n",
              "\n",
              "  .colab-df-spinner {\n",
              "    border: 2px solid var(--fill-color);\n",
              "    border-color: transparent;\n",
              "    border-bottom-color: var(--fill-color);\n",
              "    animation:\n",
              "      spin 1s steps(1) infinite;\n",
              "  }\n",
              "\n",
              "  @keyframes spin {\n",
              "    0% {\n",
              "      border-color: transparent;\n",
              "      border-bottom-color: var(--fill-color);\n",
              "      border-left-color: var(--fill-color);\n",
              "    }\n",
              "    20% {\n",
              "      border-color: transparent;\n",
              "      border-left-color: var(--fill-color);\n",
              "      border-top-color: var(--fill-color);\n",
              "    }\n",
              "    30% {\n",
              "      border-color: transparent;\n",
              "      border-left-color: var(--fill-color);\n",
              "      border-top-color: var(--fill-color);\n",
              "      border-right-color: var(--fill-color);\n",
              "    }\n",
              "    40% {\n",
              "      border-color: transparent;\n",
              "      border-right-color: var(--fill-color);\n",
              "      border-top-color: var(--fill-color);\n",
              "    }\n",
              "    60% {\n",
              "      border-color: transparent;\n",
              "      border-right-color: var(--fill-color);\n",
              "    }\n",
              "    80% {\n",
              "      border-color: transparent;\n",
              "      border-right-color: var(--fill-color);\n",
              "      border-bottom-color: var(--fill-color);\n",
              "    }\n",
              "    90% {\n",
              "      border-color: transparent;\n",
              "      border-bottom-color: var(--fill-color);\n",
              "    }\n",
              "  }\n",
              "</style>\n",
              "\n",
              "  <script>\n",
              "    async function quickchart(key) {\n",
              "      const quickchartButtonEl =\n",
              "        document.querySelector('#' + key + ' button');\n",
              "      quickchartButtonEl.disabled = true;  // To prevent multiple clicks.\n",
              "      quickchartButtonEl.classList.add('colab-df-spinner');\n",
              "      try {\n",
              "        const charts = await google.colab.kernel.invokeFunction(\n",
              "            'suggestCharts', [key], {});\n",
              "      } catch (error) {\n",
              "        console.error('Error during call to suggestCharts:', error);\n",
              "      }\n",
              "      quickchartButtonEl.classList.remove('colab-df-spinner');\n",
              "      quickchartButtonEl.classList.add('colab-df-quickchart-complete');\n",
              "    }\n",
              "    (() => {\n",
              "      let quickchartButtonEl =\n",
              "        document.querySelector('#df-60a4a143-3ea4-48e6-8d1c-f56f246e2350 button');\n",
              "      quickchartButtonEl.style.display =\n",
              "        google.colab.kernel.accessAllowed ? 'block' : 'none';\n",
              "    })();\n",
              "  </script>\n",
              "</div>\n",
              "\n",
              "    </div>\n",
              "  </div>\n"
            ],
            "application/vnd.google.colaboratory.intrinsic+json": {
              "type": "dataframe",
              "variable_name": "dataset1",
              "summary": "{\n  \"name\": \"dataset1\",\n  \"rows\": 542,\n  \"fields\": [\n    {\n      \"column\": \"NAMA\",\n      \"properties\": {\n        \"dtype\": \"string\",\n        \"num_unique_values\": 542,\n        \"samples\": [\n          \"Nur Fazira Abdullah \",\n          \"CHUNG YEN SHAN\",\n          \"Nur Atiqah Abdul Hadei\"\n        ],\n        \"semantic_type\": \"\",\n        \"description\": \"\"\n      }\n    },\n    {\n      \"column\": \"RN\",\n      \"properties\": {\n        \"dtype\": \"number\",\n        \"std\": 2310,\n        \"min\": 17,\n        \"max\": 9051,\n        \"num_unique_values\": 482,\n        \"samples\": [\n          5783,\n          24,\n          5591\n        ],\n        \"semantic_type\": \"\",\n        \"description\": \"\"\n      }\n    },\n    {\n      \"column\": \"GENDER\",\n      \"properties\": {\n        \"dtype\": \"category\",\n        \"num_unique_values\": 3,\n        \"samples\": [\n          \"F\",\n          \"M\",\n          \"L\"\n        ],\n        \"semantic_type\": \"\",\n        \"description\": \"\"\n      }\n    },\n    {\n      \"column\": \"NO XRAY\",\n      \"properties\": {\n        \"dtype\": \"number\",\n        \"std\": 298,\n        \"min\": 2,\n        \"max\": 1031,\n        \"num_unique_values\": 542,\n        \"samples\": [\n          718,\n          134,\n          707\n        ],\n        \"semantic_type\": \"\",\n        \"description\": \"\"\n      }\n    },\n    {\n      \"column\": \"AGE\",\n      \"properties\": {\n        \"dtype\": \"number\",\n        \"std\": 5,\n        \"min\": 8,\n        \"max\": 54,\n        \"num_unique_values\": 31,\n        \"samples\": [\n          33,\n          9,\n          8\n        ],\n        \"semantic_type\": \"\",\n        \"description\": \"\"\n      }\n    },\n    {\n      \"column\": \"SK\",\n      \"properties\": {\n        \"dtype\": \"number\",\n        \"std\": 0.7069848266732581,\n        \"min\": 1.0,\n        \"max\": 3.0,\n        \"num_unique_values\": 3,\n        \"samples\": [\n          1.0,\n          3.0,\n          2.0\n        ],\n        \"semantic_type\": \"\",\n        \"description\": \"\"\n      }\n    },\n    {\n      \"column\": \"INCISOR\",\n      \"properties\": {\n        \"dtype\": \"category\",\n        \"num_unique_values\": 4,\n        \"samples\": [\n          1,\n          \"2 DIV2\",\n          \"2 DIV1\"\n        ],\n        \"semantic_type\": \"\",\n        \"description\": \"\"\n      }\n    },\n    {\n      \"column\": \"CANINE\",\n      \"properties\": {\n        \"dtype\": \"category\",\n        \"num_unique_values\": 19,\n        \"samples\": [\n          \"R3 L2\",\n          \"R1 L1\",\n          \"R2 L-\"\n        ],\n        \"semantic_type\": \"\",\n        \"description\": \"\"\n      }\n    },\n    {\n      \"column\": \"MOLAR\",\n      \"properties\": {\n        \"dtype\": \"category\",\n        \"num_unique_values\": 19,\n        \"samples\": [\n          \"R1 L1\",\n          \"R2 L2\",\n          \"R- L1\"\n        ],\n        \"semantic_type\": \"\",\n        \"description\": \"\"\n      }\n    },\n    {\n      \"column\": \"RACE\",\n      \"properties\": {\n        \"dtype\": \"category\",\n        \"num_unique_values\": 3,\n        \"samples\": [\n          \"M\",\n          \"I\",\n          \"C\"\n        ],\n        \"semantic_type\": \"\",\n        \"description\": \"\"\n      }\n    }\n  ]\n}"
            }
          },
          "metadata": {},
          "execution_count": 6
        }
      ]
    },
    {
      "source": [
        "def handle_labels(dataset1,dataset2):\n",
        "  dataset1['SK'].replace('', np.nan, inplace=True)\n",
        "  dataset1.dropna(subset=['SK'], inplace=True)\n",
        "\n",
        "  file_name_dataset1 = dataset1['NO XRAY'].astype('string')\n",
        "  file_name_dataset2 = dataset2['Code_no'].astype('string')\n",
        "  label1 = dataset1['SK'].astype('int').astype('string')\n",
        "  label2 = dataset2['maloc'].astype('int').astype('string')\n",
        "\n",
        "  labels = np.concatenate([label1, label2])\n",
        "  print('Total image=',file_name_dataset1.size+file_name_dataset2.size,'Total label=',labels.size)\n",
        "\n",
        "  return labels, file_name_dataset1, file_name_dataset2"
      ],
      "cell_type": "code",
      "execution_count": 7,
      "outputs": [],
      "metadata": {
        "cellView": "form",
        "id": "humiB30JjuP7"
      }
    },
    {
      "cell_type": "code",
      "source": [
        "labels, file_name_dataset1, file_name_dataset2 = handle_labels(dataset1,dataset2)\n",
        "Counter(labels)"
      ],
      "metadata": {
        "colab": {
          "base_uri": "https://localhost:8080/"
        },
        "id": "1oNk1YPLjnzl",
        "outputId": "c4d47acd-f99d-4034-e8f3-ead10504f239"
      },
      "execution_count": 8,
      "outputs": [
        {
          "output_type": "stream",
          "name": "stdout",
          "text": [
            "Total image= 858 Total label= 858\n"
          ]
        },
        {
          "output_type": "stream",
          "name": "stderr",
          "text": [
            "<ipython-input-7-b183afcf4156>:2: FutureWarning: A value is trying to be set on a copy of a DataFrame or Series through chained assignment using an inplace method.\n",
            "The behavior will change in pandas 3.0. This inplace method will never work because the intermediate object on which we are setting values always behaves as a copy.\n",
            "\n",
            "For example, when doing 'df[col].method(value, inplace=True)', try using 'df.method({col: value}, inplace=True)' or df[col] = df[col].method(value) instead, to perform the operation inplace on the original object.\n",
            "\n",
            "\n",
            "  dataset1['SK'].replace('', np.nan, inplace=True)\n"
          ]
        },
        {
          "output_type": "execute_result",
          "data": {
            "text/plain": [
              "Counter({'1': 414, '3': 137, '2': 307})"
            ]
          },
          "metadata": {},
          "execution_count": 8
        }
      ]
    },
    {
      "cell_type": "code",
      "source": [
        "def remove_image_info(image,img_size):\n",
        "    h, w = image.shape\n",
        "    y1 = 0\n",
        "    y2 = int(0.90*h)\n",
        "    x1 = 0\n",
        "    x2 = w\n",
        "    return cv2.resize(image[y1:y2,x1:x2],img_size)"
      ],
      "metadata": {
        "id": "fxj_ioEWnEQi"
      },
      "execution_count": 9,
      "outputs": []
    },
    {
      "cell_type": "code",
      "source": [
        "def img_pre_process_pipeline(file_name_dataset1, file_name_dataset2,img_size):\n",
        "  X_data =[]\n",
        "  for file in file_name_dataset1:\n",
        "      img = cv2.resize(cv2.imread(loc+'/'+file+'.jpg',0),img_size)\n",
        "      X_data.append(remove_image_info(img,img_size))\n",
        "\n",
        "  for file in file_name_dataset2:\n",
        "      img = cv2.resize(cv2.imread(loc1+'/'+file+'.jpg',0),img_size)\n",
        "      X_data.append(img)\n",
        "\n",
        "  X = np.array(X_data)\n",
        "  X = np.squeeze(X) #remove single-dimensional entries from the shape of an array\n",
        "  X = np.array(X)\n",
        "  X = X.astype('float32')\n",
        "  X /= 255\n",
        "  X = X.reshape(-1,img_size[0],img_size[0],1)\n",
        "\n",
        "  return X"
      ],
      "metadata": {
        "id": "iKdZ2s3Bl3AQ"
      },
      "execution_count": 10,
      "outputs": []
    },
    {
      "cell_type": "code",
      "source": [
        "def label_pipeline(label,num_class):\n",
        "  label_encoder = preprocessing.LabelEncoder()\n",
        "  Y = label_encoder.fit_transform(label)\n",
        "  Y = to_categorical(Y, num_classes = num_class)\n",
        "  return Y"
      ],
      "metadata": {
        "id": "5q3u_y9LtBDb"
      },
      "execution_count": 11,
      "outputs": []
    },
    {
      "cell_type": "code",
      "source": [
        "img_size = 64\n",
        "X = img_pre_process_pipeline(file_name_dataset1, file_name_dataset2,(img_size,img_size))\n",
        "Y = label_pipeline(labels,3)"
      ],
      "metadata": {
        "id": "4cAkwK_NnVZ1"
      },
      "execution_count": 12,
      "outputs": []
    },
    {
      "cell_type": "code",
      "source": [
        "# Split the data into training (70%) and the rest (30%)\n",
        "X_train, X_temp, Y_train, y_temp = train_test_split(X, Y, test_size=0.3, random_state=42)\n",
        "\n",
        "# Split the remaining data into validation (20%) and testing (10%)\n",
        "X_val, X_test, Y_val, Y_test = train_test_split(X_temp, y_temp, test_size=1/3, random_state=42)"
      ],
      "metadata": {
        "id": "XFA8Lbmzt_Cq"
      },
      "execution_count": 14,
      "outputs": []
    },
    {
      "cell_type": "code",
      "source": [
        "print(len(X_train),len(X_val),len(X_test))\n",
        "print(len(Y_train),len(Y_val),len(Y_test))\n",
        "Counter(np.argmax(Y_test, axis=1))"
      ],
      "metadata": {
        "colab": {
          "base_uri": "https://localhost:8080/"
        },
        "id": "StQ1jdusuYhy",
        "outputId": "61390466-5e91-4454-8145-13b23fef1b9d"
      },
      "execution_count": 15,
      "outputs": [
        {
          "output_type": "stream",
          "name": "stdout",
          "text": [
            "600 172 86\n",
            "600 172 86\n"
          ]
        },
        {
          "output_type": "execute_result",
          "data": {
            "text/plain": [
              "Counter({2: 19, 0: 36, 1: 31})"
            ]
          },
          "metadata": {},
          "execution_count": 15
        }
      ]
    },
    {
      "cell_type": "code",
      "source": [
        "train_generator = ImageDataGenerator()\n",
        "\n",
        "val_generator = ImageDataGenerator()\n",
        "\n",
        "train_generator.fit(X_train,augment=True)\n",
        "val_generator.fit(X_val,augment=True)\n",
        "\n",
        "train = train_generator.flow(X_train, Y_train, batch_size=32)\n",
        "val = val_generator.flow(X_val, Y_val, batch_size=32)"
      ],
      "metadata": {
        "id": "Uf_4Nh67wkpu"
      },
      "execution_count": 17,
      "outputs": []
    },
    {
      "cell_type": "code",
      "source": [
        "def attention_shape_cnn():\n",
        "  model = tf.keras.Sequential([\n",
        "  tf.keras.layers.InputLayer(input_shape=(img_size, img_size, 1)),  # 👈 Ensure explicit input shape\n",
        "  tf.keras.layers.Conv2D(64, (3,3), activation='relu'),\n",
        "  tf.keras.layers.MaxPooling2D(2,2),\n",
        "\n",
        "  tf.keras.layers.Conv2D(128, (3,3), activation='relu'),\n",
        "  tf.keras.layers.MaxPooling2D(2,2),\n",
        "  tf.keras.layers.Dropout(0.5),  # Dropout to prevent overfitting\n",
        "\n",
        "  tf.keras.layers.Conv2D(128, (3,3), activation='relu'),\n",
        "  tf.keras.layers.MaxPooling2D(2,2),\n",
        "\n",
        "  tf.keras.layers.Flatten(),\n",
        "  tf.keras.layers.Dense(512, activation='relu'),\n",
        "  tf.keras.layers.Dropout(0.5),  # Dropout to prevent overfitting\n",
        "  tf.keras.layers.Dense(3, activation='softmax')])\n",
        "\n",
        "  model.summary()\n",
        "  return model\n",
        "\n",
        "model = attention_shape_cnn()"
      ],
      "metadata": {
        "colab": {
          "base_uri": "https://localhost:8080/"
        },
        "id": "T8ZFKiU2ukFs",
        "outputId": "1faff857-4783-4df1-c6a5-c9ea554bed48"
      },
      "execution_count": 19,
      "outputs": [
        {
          "output_type": "stream",
          "name": "stdout",
          "text": [
            "Model: \"sequential\"\n",
            "_________________________________________________________________\n",
            " Layer (type)                Output Shape              Param #   \n",
            "=================================================================\n",
            " conv2d (Conv2D)             (None, 62, 62, 64)        640       \n",
            "                                                                 \n",
            " max_pooling2d (MaxPooling2  (None, 31, 31, 64)        0         \n",
            " D)                                                              \n",
            "                                                                 \n",
            " conv2d_1 (Conv2D)           (None, 29, 29, 128)       73856     \n",
            "                                                                 \n",
            " max_pooling2d_1 (MaxPoolin  (None, 14, 14, 128)       0         \n",
            " g2D)                                                            \n",
            "                                                                 \n",
            " dropout (Dropout)           (None, 14, 14, 128)       0         \n",
            "                                                                 \n",
            " conv2d_2 (Conv2D)           (None, 12, 12, 128)       147584    \n",
            "                                                                 \n",
            " max_pooling2d_2 (MaxPoolin  (None, 6, 6, 128)         0         \n",
            " g2D)                                                            \n",
            "                                                                 \n",
            " flatten (Flatten)           (None, 4608)              0         \n",
            "                                                                 \n",
            " dense (Dense)               (None, 512)               2359808   \n",
            "                                                                 \n",
            " dropout_1 (Dropout)         (None, 512)               0         \n",
            "                                                                 \n",
            " dense_1 (Dense)             (None, 3)                 1539      \n",
            "                                                                 \n",
            "=================================================================\n",
            "Total params: 2583427 (9.85 MB)\n",
            "Trainable params: 2583427 (9.85 MB)\n",
            "Non-trainable params: 0 (0.00 Byte)\n",
            "_________________________________________________________________\n"
          ]
        }
      ]
    },
    {
      "cell_type": "code",
      "source": [
        "# Define optimizer with a fixed learning rate\n",
        "optimizer = tf.keras.optimizers.Adam(learning_rate=0.005)\n",
        "\n",
        "# Compile the model\n",
        "model.compile(loss='categorical_crossentropy',\n",
        "              optimizer=optimizer,\n",
        "              metrics=['accuracy'])  # Changed 'acc' to 'accuracy' (more explicit)"
      ],
      "metadata": {
        "id": "CEMZE_ir_SQ2"
      },
      "execution_count": 20,
      "outputs": []
    },
    {
      "cell_type": "code",
      "source": [
        "# Define callbacks\n",
        "\n",
        "# Define the ReduceLROnPlateau callback\n",
        "lr_callback = tf.keras.callbacks.ReduceLROnPlateau(\n",
        "    monitor='val_accuracy',  # Monitor validation loss\n",
        "    factor=0.005,          # Reduce learning rate by multiplying with this factor\n",
        "    patience=30,          # Wait for 5 epochs before reducing LR\n",
        "    min_lr=1e-6,         # Minimum learning rate to avoid going too low\n",
        "    verbose=1            # Print updates when LR is reduced\n",
        ")\n",
        "\n",
        "early_stopping = EarlyStopping(monitor='val_accuracy',\n",
        "                               patience=70,  # Stop training if no improvement for 20 epochs\n",
        "                              #  restore_best_weights=True,  # Restore best model\n",
        "                               verbose=1,\n",
        "                               mode = 'auto')\n",
        "\n",
        "callbacks_list = [early_stopping, lr_callback]"
      ],
      "metadata": {
        "id": "adLgSTda0xNA"
      },
      "execution_count": 21,
      "outputs": []
    },
    {
      "cell_type": "code",
      "source": [
        "history = model.fit(train,  # Assuming 'train' is your training dataset\n",
        "                    epochs=350,  # Train for 100 epochs\n",
        "                    validation_data=val,  # Assuming 'val' is your validation dataset\n",
        "                    callbacks=callbacks_list,\n",
        "                    steps_per_epoch=len(X_train) // 32,  # Adjust batch size accordingly\n",
        "                    verbose=1)"
      ],
      "metadata": {
        "colab": {
          "base_uri": "https://localhost:8080/"
        },
        "id": "CtkKVESlvfvd",
        "outputId": "fa4e2dff-c296-4d63-a765-557a0f9aa4c3"
      },
      "execution_count": 22,
      "outputs": [
        {
          "output_type": "stream",
          "name": "stdout",
          "text": [
            "Epoch 1/350\n",
            "18/18 [==============================] - 5s 44ms/step - loss: 1.3911 - accuracy: 0.4613 - val_loss: 1.0415 - val_accuracy: 0.4651 - lr: 0.0050\n",
            "Epoch 2/350\n",
            "18/18 [==============================] - 0s 13ms/step - loss: 1.0190 - accuracy: 0.4982 - val_loss: 1.0104 - val_accuracy: 0.4651 - lr: 0.0050\n",
            "Epoch 3/350\n",
            "18/18 [==============================] - 0s 15ms/step - loss: 1.0057 - accuracy: 0.5123 - val_loss: 1.0183 - val_accuracy: 0.4651 - lr: 0.0050\n",
            "Epoch 4/350\n",
            "18/18 [==============================] - 0s 13ms/step - loss: 1.0056 - accuracy: 0.5000 - val_loss: 1.0033 - val_accuracy: 0.4651 - lr: 0.0050\n",
            "Epoch 5/350\n",
            "18/18 [==============================] - 0s 15ms/step - loss: 1.0118 - accuracy: 0.4983 - val_loss: 1.0045 - val_accuracy: 0.4651 - lr: 0.0050\n",
            "Epoch 6/350\n",
            "18/18 [==============================] - 0s 13ms/step - loss: 1.0114 - accuracy: 0.4965 - val_loss: 1.0091 - val_accuracy: 0.4651 - lr: 0.0050\n",
            "Epoch 7/350\n",
            "18/18 [==============================] - 0s 15ms/step - loss: 1.0094 - accuracy: 0.4982 - val_loss: 1.0038 - val_accuracy: 0.4651 - lr: 0.0050\n",
            "Epoch 8/350\n",
            "18/18 [==============================] - 0s 15ms/step - loss: 1.0048 - accuracy: 0.5053 - val_loss: 1.0042 - val_accuracy: 0.4651 - lr: 0.0050\n",
            "Epoch 9/350\n",
            "18/18 [==============================] - 0s 14ms/step - loss: 0.9966 - accuracy: 0.5053 - val_loss: 1.0007 - val_accuracy: 0.4651 - lr: 0.0050\n",
            "Epoch 10/350\n",
            "18/18 [==============================] - 0s 13ms/step - loss: 1.0054 - accuracy: 0.5088 - val_loss: 1.0131 - val_accuracy: 0.4651 - lr: 0.0050\n",
            "Epoch 11/350\n",
            "18/18 [==============================] - 0s 13ms/step - loss: 1.0171 - accuracy: 0.4982 - val_loss: 1.0046 - val_accuracy: 0.4651 - lr: 0.0050\n",
            "Epoch 12/350\n",
            "18/18 [==============================] - 0s 13ms/step - loss: 1.0051 - accuracy: 0.4947 - val_loss: 1.0043 - val_accuracy: 0.4651 - lr: 0.0050\n",
            "Epoch 13/350\n",
            "18/18 [==============================] - 0s 13ms/step - loss: 1.0058 - accuracy: 0.4947 - val_loss: 1.0017 - val_accuracy: 0.4651 - lr: 0.0050\n",
            "Epoch 14/350\n",
            "18/18 [==============================] - 0s 15ms/step - loss: 1.0150 - accuracy: 0.4947 - val_loss: 1.0025 - val_accuracy: 0.4651 - lr: 0.0050\n",
            "Epoch 15/350\n",
            "18/18 [==============================] - 0s 18ms/step - loss: 0.9997 - accuracy: 0.5000 - val_loss: 1.0080 - val_accuracy: 0.4651 - lr: 0.0050\n",
            "Epoch 16/350\n",
            "18/18 [==============================] - 0s 16ms/step - loss: 1.0089 - accuracy: 0.5000 - val_loss: 1.0017 - val_accuracy: 0.4651 - lr: 0.0050\n",
            "Epoch 17/350\n",
            "18/18 [==============================] - 0s 18ms/step - loss: 1.0066 - accuracy: 0.4982 - val_loss: 1.0041 - val_accuracy: 0.4651 - lr: 0.0050\n",
            "Epoch 18/350\n",
            "18/18 [==============================] - 0s 17ms/step - loss: 1.0033 - accuracy: 0.5000 - val_loss: 1.0034 - val_accuracy: 0.4651 - lr: 0.0050\n",
            "Epoch 19/350\n",
            "18/18 [==============================] - 0s 17ms/step - loss: 1.0054 - accuracy: 0.5000 - val_loss: 1.0051 - val_accuracy: 0.4651 - lr: 0.0050\n",
            "Epoch 20/350\n",
            "18/18 [==============================] - 0s 13ms/step - loss: 1.0058 - accuracy: 0.4947 - val_loss: 1.0023 - val_accuracy: 0.4651 - lr: 0.0050\n",
            "Epoch 21/350\n",
            "18/18 [==============================] - 0s 14ms/step - loss: 1.0099 - accuracy: 0.4965 - val_loss: 1.0050 - val_accuracy: 0.4651 - lr: 0.0050\n",
            "Epoch 22/350\n",
            "18/18 [==============================] - 0s 14ms/step - loss: 1.0052 - accuracy: 0.4982 - val_loss: 1.0020 - val_accuracy: 0.4651 - lr: 0.0050\n",
            "Epoch 23/350\n",
            "18/18 [==============================] - 0s 14ms/step - loss: 0.9993 - accuracy: 0.5000 - val_loss: 1.0038 - val_accuracy: 0.4651 - lr: 0.0050\n",
            "Epoch 24/350\n",
            "18/18 [==============================] - 0s 14ms/step - loss: 0.9892 - accuracy: 0.5088 - val_loss: 0.9922 - val_accuracy: 0.4651 - lr: 0.0050\n",
            "Epoch 25/350\n",
            "18/18 [==============================] - 0s 13ms/step - loss: 0.9975 - accuracy: 0.4912 - val_loss: 0.9900 - val_accuracy: 0.4651 - lr: 0.0050\n",
            "Epoch 26/350\n",
            "18/18 [==============================] - 0s 13ms/step - loss: 0.9878 - accuracy: 0.5035 - val_loss: 0.9751 - val_accuracy: 0.4884 - lr: 0.0050\n",
            "Epoch 27/350\n",
            "18/18 [==============================] - 0s 15ms/step - loss: 1.0011 - accuracy: 0.5000 - val_loss: 0.9892 - val_accuracy: 0.4767 - lr: 0.0050\n",
            "Epoch 28/350\n",
            "18/18 [==============================] - 0s 13ms/step - loss: 0.9756 - accuracy: 0.4947 - val_loss: 0.9747 - val_accuracy: 0.4709 - lr: 0.0050\n",
            "Epoch 29/350\n",
            "18/18 [==============================] - 0s 13ms/step - loss: 0.9875 - accuracy: 0.4947 - val_loss: 0.9674 - val_accuracy: 0.4942 - lr: 0.0050\n",
            "Epoch 30/350\n",
            "18/18 [==============================] - 0s 15ms/step - loss: 0.9740 - accuracy: 0.4982 - val_loss: 0.9722 - val_accuracy: 0.4709 - lr: 0.0050\n",
            "Epoch 31/350\n",
            "18/18 [==============================] - 0s 13ms/step - loss: 0.9921 - accuracy: 0.4806 - val_loss: 0.9822 - val_accuracy: 0.4651 - lr: 0.0050\n",
            "Epoch 32/350\n",
            "18/18 [==============================] - 0s 13ms/step - loss: 0.9777 - accuracy: 0.4877 - val_loss: 0.9722 - val_accuracy: 0.4651 - lr: 0.0050\n",
            "Epoch 33/350\n",
            "18/18 [==============================] - 0s 13ms/step - loss: 0.9700 - accuracy: 0.5053 - val_loss: 0.9601 - val_accuracy: 0.4826 - lr: 0.0050\n",
            "Epoch 34/350\n",
            "18/18 [==============================] - 0s 13ms/step - loss: 0.9600 - accuracy: 0.4912 - val_loss: 0.9646 - val_accuracy: 0.4651 - lr: 0.0050\n",
            "Epoch 35/350\n",
            "18/18 [==============================] - 0s 14ms/step - loss: 0.9636 - accuracy: 0.5018 - val_loss: 0.9340 - val_accuracy: 0.4709 - lr: 0.0050\n",
            "Epoch 36/350\n",
            "18/18 [==============================] - 0s 15ms/step - loss: 0.9559 - accuracy: 0.4894 - val_loss: 0.9547 - val_accuracy: 0.4709 - lr: 0.0050\n",
            "Epoch 37/350\n",
            "18/18 [==============================] - 0s 15ms/step - loss: 0.9438 - accuracy: 0.5246 - val_loss: 0.9362 - val_accuracy: 0.5058 - lr: 0.0050\n",
            "Epoch 38/350\n",
            "18/18 [==============================] - 0s 14ms/step - loss: 0.9728 - accuracy: 0.4894 - val_loss: 0.9339 - val_accuracy: 0.4767 - lr: 0.0050\n",
            "Epoch 39/350\n",
            "18/18 [==============================] - 0s 14ms/step - loss: 0.9598 - accuracy: 0.5018 - val_loss: 0.9615 - val_accuracy: 0.4651 - lr: 0.0050\n",
            "Epoch 40/350\n",
            "18/18 [==============================] - 0s 13ms/step - loss: 0.9603 - accuracy: 0.5141 - val_loss: 0.9321 - val_accuracy: 0.4767 - lr: 0.0050\n",
            "Epoch 41/350\n",
            "18/18 [==============================] - 0s 14ms/step - loss: 0.9531 - accuracy: 0.5000 - val_loss: 0.9572 - val_accuracy: 0.4884 - lr: 0.0050\n",
            "Epoch 42/350\n",
            "18/18 [==============================] - 0s 15ms/step - loss: 0.9530 - accuracy: 0.5035 - val_loss: 0.9322 - val_accuracy: 0.4942 - lr: 0.0050\n",
            "Epoch 43/350\n",
            "18/18 [==============================] - 0s 14ms/step - loss: 0.9445 - accuracy: 0.5176 - val_loss: 0.9529 - val_accuracy: 0.4942 - lr: 0.0050\n",
            "Epoch 44/350\n",
            "18/18 [==============================] - 0s 13ms/step - loss: 0.9436 - accuracy: 0.4982 - val_loss: 0.9297 - val_accuracy: 0.5058 - lr: 0.0050\n",
            "Epoch 45/350\n",
            "18/18 [==============================] - 0s 13ms/step - loss: 0.9649 - accuracy: 0.5070 - val_loss: 0.9857 - val_accuracy: 0.4651 - lr: 0.0050\n",
            "Epoch 46/350\n",
            "18/18 [==============================] - 0s 14ms/step - loss: 0.9550 - accuracy: 0.5211 - val_loss: 0.9318 - val_accuracy: 0.4942 - lr: 0.0050\n",
            "Epoch 47/350\n",
            "18/18 [==============================] - 0s 15ms/step - loss: 0.9544 - accuracy: 0.5088 - val_loss: 0.9379 - val_accuracy: 0.4942 - lr: 0.0050\n",
            "Epoch 48/350\n",
            "18/18 [==============================] - 0s 14ms/step - loss: 0.9487 - accuracy: 0.5106 - val_loss: 0.9304 - val_accuracy: 0.5000 - lr: 0.0050\n",
            "Epoch 49/350\n",
            "18/18 [==============================] - 0s 13ms/step - loss: 0.9408 - accuracy: 0.5211 - val_loss: 0.9270 - val_accuracy: 0.4942 - lr: 0.0050\n",
            "Epoch 50/350\n",
            "18/18 [==============================] - 0s 13ms/step - loss: 0.9550 - accuracy: 0.5053 - val_loss: 0.9477 - val_accuracy: 0.4826 - lr: 0.0050\n",
            "Epoch 51/350\n",
            "18/18 [==============================] - 0s 15ms/step - loss: 0.9451 - accuracy: 0.5246 - val_loss: 0.9436 - val_accuracy: 0.4884 - lr: 0.0050\n",
            "Epoch 52/350\n",
            "18/18 [==============================] - 0s 13ms/step - loss: 0.9581 - accuracy: 0.4965 - val_loss: 0.9205 - val_accuracy: 0.5000 - lr: 0.0050\n",
            "Epoch 53/350\n",
            "18/18 [==============================] - 0s 14ms/step - loss: 0.9422 - accuracy: 0.5176 - val_loss: 0.9174 - val_accuracy: 0.4942 - lr: 0.0050\n",
            "Epoch 54/350\n",
            "18/18 [==============================] - 0s 16ms/step - loss: 0.9426 - accuracy: 0.5511 - val_loss: 0.9114 - val_accuracy: 0.5058 - lr: 0.0050\n",
            "Epoch 55/350\n",
            "18/18 [==============================] - 0s 17ms/step - loss: 0.9390 - accuracy: 0.5317 - val_loss: 0.9198 - val_accuracy: 0.5233 - lr: 0.0050\n",
            "Epoch 56/350\n",
            "18/18 [==============================] - 0s 19ms/step - loss: 0.9572 - accuracy: 0.5106 - val_loss: 0.9612 - val_accuracy: 0.4593 - lr: 0.0050\n",
            "Epoch 57/350\n",
            "18/18 [==============================] - 0s 17ms/step - loss: 0.9716 - accuracy: 0.4965 - val_loss: 0.9242 - val_accuracy: 0.5000 - lr: 0.0050\n",
            "Epoch 58/350\n",
            "18/18 [==============================] - 0s 17ms/step - loss: 0.9250 - accuracy: 0.5176 - val_loss: 0.8948 - val_accuracy: 0.5465 - lr: 0.0050\n",
            "Epoch 59/350\n",
            "18/18 [==============================] - 0s 18ms/step - loss: 0.9322 - accuracy: 0.5211 - val_loss: 0.9118 - val_accuracy: 0.5523 - lr: 0.0050\n",
            "Epoch 60/350\n",
            "18/18 [==============================] - 0s 13ms/step - loss: 0.9396 - accuracy: 0.5282 - val_loss: 0.8993 - val_accuracy: 0.5523 - lr: 0.0050\n",
            "Epoch 61/350\n",
            "18/18 [==============================] - 0s 13ms/step - loss: 0.9098 - accuracy: 0.5317 - val_loss: 0.8931 - val_accuracy: 0.5465 - lr: 0.0050\n",
            "Epoch 62/350\n",
            "18/18 [==============================] - 0s 14ms/step - loss: 0.9270 - accuracy: 0.5158 - val_loss: 0.8806 - val_accuracy: 0.5756 - lr: 0.0050\n",
            "Epoch 63/350\n",
            "18/18 [==============================] - 0s 13ms/step - loss: 0.9242 - accuracy: 0.5511 - val_loss: 0.8825 - val_accuracy: 0.5523 - lr: 0.0050\n",
            "Epoch 64/350\n",
            "18/18 [==============================] - 0s 15ms/step - loss: 0.9088 - accuracy: 0.5451 - val_loss: 0.8764 - val_accuracy: 0.5581 - lr: 0.0050\n",
            "Epoch 65/350\n",
            "18/18 [==============================] - 0s 15ms/step - loss: 0.9226 - accuracy: 0.5475 - val_loss: 0.8823 - val_accuracy: 0.5872 - lr: 0.0050\n",
            "Epoch 66/350\n",
            "18/18 [==============================] - 0s 14ms/step - loss: 0.9170 - accuracy: 0.5722 - val_loss: 0.8969 - val_accuracy: 0.5116 - lr: 0.0050\n",
            "Epoch 67/350\n",
            "18/18 [==============================] - 0s 13ms/step - loss: 0.9442 - accuracy: 0.5458 - val_loss: 0.9042 - val_accuracy: 0.5465 - lr: 0.0050\n",
            "Epoch 68/350\n",
            "18/18 [==============================] - 0s 13ms/step - loss: 0.9566 - accuracy: 0.5405 - val_loss: 0.8663 - val_accuracy: 0.5988 - lr: 0.0050\n",
            "Epoch 69/350\n",
            "18/18 [==============================] - 0s 14ms/step - loss: 0.9250 - accuracy: 0.5458 - val_loss: 0.8964 - val_accuracy: 0.5291 - lr: 0.0050\n",
            "Epoch 70/350\n",
            "18/18 [==============================] - 0s 13ms/step - loss: 0.9150 - accuracy: 0.5405 - val_loss: 0.8743 - val_accuracy: 0.5581 - lr: 0.0050\n",
            "Epoch 71/350\n",
            "18/18 [==============================] - 0s 16ms/step - loss: 0.8963 - accuracy: 0.5599 - val_loss: 0.8594 - val_accuracy: 0.5581 - lr: 0.0050\n",
            "Epoch 72/350\n",
            "18/18 [==============================] - 0s 15ms/step - loss: 0.8926 - accuracy: 0.5898 - val_loss: 0.8736 - val_accuracy: 0.5465 - lr: 0.0050\n",
            "Epoch 73/350\n",
            "18/18 [==============================] - 0s 15ms/step - loss: 0.8858 - accuracy: 0.5722 - val_loss: 0.8901 - val_accuracy: 0.5233 - lr: 0.0050\n",
            "Epoch 74/350\n",
            "18/18 [==============================] - 0s 13ms/step - loss: 0.9192 - accuracy: 0.5387 - val_loss: 0.8714 - val_accuracy: 0.5523 - lr: 0.0050\n",
            "Epoch 75/350\n",
            "18/18 [==============================] - 0s 15ms/step - loss: 0.8975 - accuracy: 0.5563 - val_loss: 0.9015 - val_accuracy: 0.5233 - lr: 0.0050\n",
            "Epoch 76/350\n",
            "18/18 [==============================] - 0s 13ms/step - loss: 0.9174 - accuracy: 0.5528 - val_loss: 0.8699 - val_accuracy: 0.5174 - lr: 0.0050\n",
            "Epoch 77/350\n",
            "18/18 [==============================] - 0s 15ms/step - loss: 0.8932 - accuracy: 0.5722 - val_loss: 0.8618 - val_accuracy: 0.5407 - lr: 0.0050\n",
            "Epoch 78/350\n",
            "18/18 [==============================] - 0s 13ms/step - loss: 0.9044 - accuracy: 0.5493 - val_loss: 0.8527 - val_accuracy: 0.6105 - lr: 0.0050\n",
            "Epoch 79/350\n",
            "18/18 [==============================] - 0s 13ms/step - loss: 0.8944 - accuracy: 0.5704 - val_loss: 0.8603 - val_accuracy: 0.6047 - lr: 0.0050\n",
            "Epoch 80/350\n",
            "18/18 [==============================] - 0s 15ms/step - loss: 0.8835 - accuracy: 0.5757 - val_loss: 0.8693 - val_accuracy: 0.5698 - lr: 0.0050\n",
            "Epoch 81/350\n",
            "18/18 [==============================] - 0s 15ms/step - loss: 0.8614 - accuracy: 0.5951 - val_loss: 0.8314 - val_accuracy: 0.6047 - lr: 0.0050\n",
            "Epoch 82/350\n",
            "18/18 [==============================] - 0s 13ms/step - loss: 0.8756 - accuracy: 0.5968 - val_loss: 0.8533 - val_accuracy: 0.5814 - lr: 0.0050\n",
            "Epoch 83/350\n",
            "18/18 [==============================] - 0s 15ms/step - loss: 0.8686 - accuracy: 0.5845 - val_loss: 0.8632 - val_accuracy: 0.5407 - lr: 0.0050\n",
            "Epoch 84/350\n",
            "18/18 [==============================] - 0s 15ms/step - loss: 0.8955 - accuracy: 0.5792 - val_loss: 0.8557 - val_accuracy: 0.6047 - lr: 0.0050\n",
            "Epoch 85/350\n",
            "18/18 [==============================] - 0s 13ms/step - loss: 0.8968 - accuracy: 0.5739 - val_loss: 0.8586 - val_accuracy: 0.5407 - lr: 0.0050\n",
            "Epoch 86/350\n",
            "18/18 [==============================] - 0s 15ms/step - loss: 0.9062 - accuracy: 0.5511 - val_loss: 0.8370 - val_accuracy: 0.5698 - lr: 0.0050\n",
            "Epoch 87/350\n",
            "18/18 [==============================] - 0s 15ms/step - loss: 0.9000 - accuracy: 0.5687 - val_loss: 0.8614 - val_accuracy: 0.5407 - lr: 0.0050\n",
            "Epoch 88/350\n",
            "18/18 [==============================] - 0s 13ms/step - loss: 0.8851 - accuracy: 0.5687 - val_loss: 0.8744 - val_accuracy: 0.5233 - lr: 0.0050\n",
            "Epoch 89/350\n",
            "18/18 [==============================] - 0s 13ms/step - loss: 0.8485 - accuracy: 0.5880 - val_loss: 0.8447 - val_accuracy: 0.5814 - lr: 0.0050\n",
            "Epoch 90/350\n",
            "18/18 [==============================] - 0s 14ms/step - loss: 0.8721 - accuracy: 0.5810 - val_loss: 0.8210 - val_accuracy: 0.5756 - lr: 0.0050\n",
            "Epoch 91/350\n",
            "18/18 [==============================] - 0s 14ms/step - loss: 0.8491 - accuracy: 0.6004 - val_loss: 0.8466 - val_accuracy: 0.5523 - lr: 0.0050\n",
            "Epoch 92/350\n",
            "18/18 [==============================] - 0s 13ms/step - loss: 0.8659 - accuracy: 0.5863 - val_loss: 0.8846 - val_accuracy: 0.5058 - lr: 0.0050\n",
            "Epoch 93/350\n",
            "18/18 [==============================] - 0s 13ms/step - loss: 0.8589 - accuracy: 0.5792 - val_loss: 0.8596 - val_accuracy: 0.5581 - lr: 0.0050\n",
            "Epoch 94/350\n",
            "18/18 [==============================] - 0s 18ms/step - loss: 0.8649 - accuracy: 0.5863 - val_loss: 0.8265 - val_accuracy: 0.6047 - lr: 0.0050\n",
            "Epoch 95/350\n",
            "18/18 [==============================] - 0s 17ms/step - loss: 0.8707 - accuracy: 0.5687 - val_loss: 0.8404 - val_accuracy: 0.5523 - lr: 0.0050\n",
            "Epoch 96/350\n",
            "18/18 [==============================] - 0s 18ms/step - loss: 0.8538 - accuracy: 0.6021 - val_loss: 0.8550 - val_accuracy: 0.5581 - lr: 0.0050\n",
            "Epoch 97/350\n",
            "18/18 [==============================] - 0s 17ms/step - loss: 0.8426 - accuracy: 0.5810 - val_loss: 0.8537 - val_accuracy: 0.5407 - lr: 0.0050\n",
            "Epoch 98/350\n",
            "18/18 [==============================] - 0s 18ms/step - loss: 0.8539 - accuracy: 0.5915 - val_loss: 0.8633 - val_accuracy: 0.5291 - lr: 0.0050\n",
            "Epoch 99/350\n",
            "18/18 [==============================] - 0s 18ms/step - loss: 0.8376 - accuracy: 0.5951 - val_loss: 0.8528 - val_accuracy: 0.5640 - lr: 0.0050\n",
            "Epoch 100/350\n",
            "18/18 [==============================] - 0s 15ms/step - loss: 0.8611 - accuracy: 0.5827 - val_loss: 0.8351 - val_accuracy: 0.5814 - lr: 0.0050\n",
            "Epoch 101/350\n",
            "18/18 [==============================] - 0s 13ms/step - loss: 0.8272 - accuracy: 0.5951 - val_loss: 0.8344 - val_accuracy: 0.5872 - lr: 0.0050\n",
            "Epoch 102/350\n",
            "18/18 [==============================] - 0s 15ms/step - loss: 0.8524 - accuracy: 0.6074 - val_loss: 0.8320 - val_accuracy: 0.5756 - lr: 0.0050\n",
            "Epoch 103/350\n",
            "18/18 [==============================] - 0s 14ms/step - loss: 0.8481 - accuracy: 0.5968 - val_loss: 0.8553 - val_accuracy: 0.5407 - lr: 0.0050\n",
            "Epoch 104/350\n",
            "18/18 [==============================] - 0s 13ms/step - loss: 0.8438 - accuracy: 0.5634 - val_loss: 0.8292 - val_accuracy: 0.6395 - lr: 0.0050\n",
            "Epoch 105/350\n",
            "18/18 [==============================] - 0s 15ms/step - loss: 0.7970 - accuracy: 0.5986 - val_loss: 0.8810 - val_accuracy: 0.5058 - lr: 0.0050\n",
            "Epoch 106/350\n",
            "18/18 [==============================] - 0s 13ms/step - loss: 0.8356 - accuracy: 0.5898 - val_loss: 0.8530 - val_accuracy: 0.5698 - lr: 0.0050\n",
            "Epoch 107/350\n",
            "18/18 [==============================] - 0s 15ms/step - loss: 0.8176 - accuracy: 0.6127 - val_loss: 0.8402 - val_accuracy: 0.5581 - lr: 0.0050\n",
            "Epoch 108/350\n",
            "18/18 [==============================] - 0s 15ms/step - loss: 0.8262 - accuracy: 0.5951 - val_loss: 0.8179 - val_accuracy: 0.5988 - lr: 0.0050\n",
            "Epoch 109/350\n",
            "18/18 [==============================] - 0s 15ms/step - loss: 0.8023 - accuracy: 0.6267 - val_loss: 0.8357 - val_accuracy: 0.5407 - lr: 0.0050\n",
            "Epoch 110/350\n",
            "18/18 [==============================] - 0s 13ms/step - loss: 0.8455 - accuracy: 0.5845 - val_loss: 0.8627 - val_accuracy: 0.5291 - lr: 0.0050\n",
            "Epoch 111/350\n",
            "18/18 [==============================] - 0s 13ms/step - loss: 0.8425 - accuracy: 0.6039 - val_loss: 0.8347 - val_accuracy: 0.5872 - lr: 0.0050\n",
            "Epoch 112/350\n",
            "18/18 [==============================] - 0s 13ms/step - loss: 0.8501 - accuracy: 0.5845 - val_loss: 0.8464 - val_accuracy: 0.5640 - lr: 0.0050\n",
            "Epoch 113/350\n",
            "18/18 [==============================] - 0s 13ms/step - loss: 0.8307 - accuracy: 0.5898 - val_loss: 0.8397 - val_accuracy: 0.5581 - lr: 0.0050\n",
            "Epoch 114/350\n",
            "18/18 [==============================] - 0s 15ms/step - loss: 0.8203 - accuracy: 0.6074 - val_loss: 0.8306 - val_accuracy: 0.5465 - lr: 0.0050\n",
            "Epoch 115/350\n",
            "18/18 [==============================] - 0s 13ms/step - loss: 0.8071 - accuracy: 0.6074 - val_loss: 0.8303 - val_accuracy: 0.5698 - lr: 0.0050\n",
            "Epoch 116/350\n",
            "18/18 [==============================] - 0s 13ms/step - loss: 0.8091 - accuracy: 0.6391 - val_loss: 0.8305 - val_accuracy: 0.5814 - lr: 0.0050\n",
            "Epoch 117/350\n",
            "18/18 [==============================] - 0s 15ms/step - loss: 0.8128 - accuracy: 0.5863 - val_loss: 0.8078 - val_accuracy: 0.6221 - lr: 0.0050\n",
            "Epoch 118/350\n",
            "18/18 [==============================] - 0s 15ms/step - loss: 0.8260 - accuracy: 0.6197 - val_loss: 0.8327 - val_accuracy: 0.6047 - lr: 0.0050\n",
            "Epoch 119/350\n",
            "18/18 [==============================] - 0s 15ms/step - loss: 0.8428 - accuracy: 0.5810 - val_loss: 0.8374 - val_accuracy: 0.6105 - lr: 0.0050\n",
            "Epoch 120/350\n",
            "18/18 [==============================] - 0s 15ms/step - loss: 0.8094 - accuracy: 0.6250 - val_loss: 0.8298 - val_accuracy: 0.5930 - lr: 0.0050\n",
            "Epoch 121/350\n",
            "18/18 [==============================] - 0s 15ms/step - loss: 0.8164 - accuracy: 0.6127 - val_loss: 0.8075 - val_accuracy: 0.6279 - lr: 0.0050\n",
            "Epoch 122/350\n",
            "18/18 [==============================] - 0s 13ms/step - loss: 0.7941 - accuracy: 0.6250 - val_loss: 0.7949 - val_accuracy: 0.6105 - lr: 0.0050\n",
            "Epoch 123/350\n",
            "18/18 [==============================] - 0s 13ms/step - loss: 0.8330 - accuracy: 0.5704 - val_loss: 0.8347 - val_accuracy: 0.5581 - lr: 0.0050\n",
            "Epoch 124/350\n",
            "18/18 [==============================] - 0s 13ms/step - loss: 0.8345 - accuracy: 0.5933 - val_loss: 0.8062 - val_accuracy: 0.6105 - lr: 0.0050\n",
            "Epoch 125/350\n",
            "18/18 [==============================] - 0s 13ms/step - loss: 0.8389 - accuracy: 0.5968 - val_loss: 0.8408 - val_accuracy: 0.5581 - lr: 0.0050\n",
            "Epoch 126/350\n",
            "18/18 [==============================] - 0s 15ms/step - loss: 0.8222 - accuracy: 0.5915 - val_loss: 0.8127 - val_accuracy: 0.5814 - lr: 0.0050\n",
            "Epoch 127/350\n",
            "18/18 [==============================] - 0s 15ms/step - loss: 0.7992 - accuracy: 0.6458 - val_loss: 0.8120 - val_accuracy: 0.5872 - lr: 0.0050\n",
            "Epoch 128/350\n",
            "18/18 [==============================] - 0s 15ms/step - loss: 0.7917 - accuracy: 0.6250 - val_loss: 0.8599 - val_accuracy: 0.5523 - lr: 0.0050\n",
            "Epoch 129/350\n",
            "18/18 [==============================] - 0s 13ms/step - loss: 0.8005 - accuracy: 0.6303 - val_loss: 0.8207 - val_accuracy: 0.5930 - lr: 0.0050\n",
            "Epoch 130/350\n",
            "18/18 [==============================] - 0s 15ms/step - loss: 0.7903 - accuracy: 0.6039 - val_loss: 0.8197 - val_accuracy: 0.5872 - lr: 0.0050\n",
            "Epoch 131/350\n",
            "18/18 [==============================] - 0s 13ms/step - loss: 0.7843 - accuracy: 0.6338 - val_loss: 0.7947 - val_accuracy: 0.6163 - lr: 0.0050\n",
            "Epoch 132/350\n",
            "18/18 [==============================] - 0s 15ms/step - loss: 0.7781 - accuracy: 0.6320 - val_loss: 0.8102 - val_accuracy: 0.5756 - lr: 0.0050\n",
            "Epoch 133/350\n",
            "18/18 [==============================] - 0s 13ms/step - loss: 0.7743 - accuracy: 0.6285 - val_loss: 0.8226 - val_accuracy: 0.5814 - lr: 0.0050\n",
            "Epoch 134/350\n",
            "16/18 [=========================>....] - ETA: 0s - loss: 0.8383 - accuracy: 0.5938\n",
            "Epoch 134: ReduceLROnPlateau reducing learning rate to 2.4999999441206457e-05.\n",
            "18/18 [==============================] - 0s 16ms/step - loss: 0.8272 - accuracy: 0.6109 - val_loss: 0.8394 - val_accuracy: 0.5523 - lr: 0.0050\n",
            "Epoch 135/350\n",
            "18/18 [==============================] - 0s 19ms/step - loss: 0.7958 - accuracy: 0.6268 - val_loss: 0.8394 - val_accuracy: 0.5523 - lr: 2.5000e-05\n",
            "Epoch 136/350\n",
            "18/18 [==============================] - 0s 18ms/step - loss: 0.8109 - accuracy: 0.6056 - val_loss: 0.8391 - val_accuracy: 0.5523 - lr: 2.5000e-05\n",
            "Epoch 137/350\n",
            "18/18 [==============================] - 0s 17ms/step - loss: 0.7756 - accuracy: 0.6163 - val_loss: 0.8381 - val_accuracy: 0.5523 - lr: 2.5000e-05\n",
            "Epoch 138/350\n",
            "18/18 [==============================] - 0s 17ms/step - loss: 0.7610 - accuracy: 0.6232 - val_loss: 0.8378 - val_accuracy: 0.5523 - lr: 2.5000e-05\n",
            "Epoch 139/350\n",
            "18/18 [==============================] - 0s 19ms/step - loss: 0.7619 - accuracy: 0.6180 - val_loss: 0.8370 - val_accuracy: 0.5523 - lr: 2.5000e-05\n",
            "Epoch 140/350\n",
            "18/18 [==============================] - 0s 15ms/step - loss: 0.7992 - accuracy: 0.6109 - val_loss: 0.8363 - val_accuracy: 0.5523 - lr: 2.5000e-05\n",
            "Epoch 141/350\n",
            "18/18 [==============================] - 0s 14ms/step - loss: 0.8106 - accuracy: 0.6250 - val_loss: 0.8358 - val_accuracy: 0.5523 - lr: 2.5000e-05\n",
            "Epoch 142/350\n",
            "18/18 [==============================] - 0s 13ms/step - loss: 0.7654 - accuracy: 0.6268 - val_loss: 0.8351 - val_accuracy: 0.5523 - lr: 2.5000e-05\n",
            "Epoch 143/350\n",
            "18/18 [==============================] - 0s 14ms/step - loss: 0.7701 - accuracy: 0.6180 - val_loss: 0.8345 - val_accuracy: 0.5523 - lr: 2.5000e-05\n",
            "Epoch 144/350\n",
            "18/18 [==============================] - 0s 24ms/step - loss: 0.7592 - accuracy: 0.6319 - val_loss: 0.8341 - val_accuracy: 0.5581 - lr: 2.5000e-05\n",
            "Epoch 145/350\n",
            "18/18 [==============================] - 0s 15ms/step - loss: 0.7645 - accuracy: 0.6303 - val_loss: 0.8337 - val_accuracy: 0.5523 - lr: 2.5000e-05\n",
            "Epoch 146/350\n",
            "18/18 [==============================] - 0s 15ms/step - loss: 0.7750 - accuracy: 0.6303 - val_loss: 0.8332 - val_accuracy: 0.5581 - lr: 2.5000e-05\n",
            "Epoch 147/350\n",
            "18/18 [==============================] - 0s 15ms/step - loss: 0.8086 - accuracy: 0.6092 - val_loss: 0.8328 - val_accuracy: 0.5581 - lr: 2.5000e-05\n",
            "Epoch 148/350\n",
            "18/18 [==============================] - 0s 13ms/step - loss: 0.7538 - accuracy: 0.6215 - val_loss: 0.8324 - val_accuracy: 0.5581 - lr: 2.5000e-05\n",
            "Epoch 149/350\n",
            "18/18 [==============================] - 0s 14ms/step - loss: 0.7733 - accuracy: 0.6320 - val_loss: 0.8324 - val_accuracy: 0.5581 - lr: 2.5000e-05\n",
            "Epoch 150/350\n",
            "18/18 [==============================] - 0s 15ms/step - loss: 0.7788 - accuracy: 0.6268 - val_loss: 0.8321 - val_accuracy: 0.5581 - lr: 2.5000e-05\n",
            "Epoch 151/350\n",
            "18/18 [==============================] - 0s 13ms/step - loss: 0.7483 - accuracy: 0.6514 - val_loss: 0.8318 - val_accuracy: 0.5581 - lr: 2.5000e-05\n",
            "Epoch 152/350\n",
            "18/18 [==============================] - 0s 15ms/step - loss: 0.7622 - accuracy: 0.6444 - val_loss: 0.8315 - val_accuracy: 0.5581 - lr: 2.5000e-05\n",
            "Epoch 153/350\n",
            "18/18 [==============================] - 0s 13ms/step - loss: 0.7673 - accuracy: 0.6303 - val_loss: 0.8312 - val_accuracy: 0.5581 - lr: 2.5000e-05\n",
            "Epoch 154/350\n",
            "18/18 [==============================] - 0s 13ms/step - loss: 0.7765 - accuracy: 0.6303 - val_loss: 0.8310 - val_accuracy: 0.5581 - lr: 2.5000e-05\n",
            "Epoch 155/350\n",
            "18/18 [==============================] - 0s 13ms/step - loss: 0.7804 - accuracy: 0.6144 - val_loss: 0.8309 - val_accuracy: 0.5581 - lr: 2.5000e-05\n",
            "Epoch 156/350\n",
            "18/18 [==============================] - 0s 15ms/step - loss: 0.7626 - accuracy: 0.6250 - val_loss: 0.8308 - val_accuracy: 0.5581 - lr: 2.5000e-05\n",
            "Epoch 157/350\n",
            "18/18 [==============================] - 0s 13ms/step - loss: 0.7482 - accuracy: 0.6408 - val_loss: 0.8305 - val_accuracy: 0.5581 - lr: 2.5000e-05\n",
            "Epoch 158/350\n",
            "18/18 [==============================] - 0s 13ms/step - loss: 0.7807 - accuracy: 0.6356 - val_loss: 0.8300 - val_accuracy: 0.5581 - lr: 2.5000e-05\n",
            "Epoch 159/350\n",
            "18/18 [==============================] - 0s 13ms/step - loss: 0.7779 - accuracy: 0.6285 - val_loss: 0.8298 - val_accuracy: 0.5581 - lr: 2.5000e-05\n",
            "Epoch 160/350\n",
            "18/18 [==============================] - 0s 14ms/step - loss: 0.7837 - accuracy: 0.6496 - val_loss: 0.8297 - val_accuracy: 0.5581 - lr: 2.5000e-05\n",
            "Epoch 161/350\n",
            "18/18 [==============================] - 0s 13ms/step - loss: 0.7992 - accuracy: 0.6356 - val_loss: 0.8292 - val_accuracy: 0.5581 - lr: 2.5000e-05\n",
            "Epoch 162/350\n",
            "18/18 [==============================] - 0s 13ms/step - loss: 0.7615 - accuracy: 0.6408 - val_loss: 0.8290 - val_accuracy: 0.5581 - lr: 2.5000e-05\n",
            "Epoch 163/350\n",
            "18/18 [==============================] - 0s 15ms/step - loss: 0.7457 - accuracy: 0.6585 - val_loss: 0.8286 - val_accuracy: 0.5581 - lr: 2.5000e-05\n",
            "Epoch 164/350\n",
            "16/18 [=========================>....] - ETA: 0s - loss: 0.7726 - accuracy: 0.6309\n",
            "Epoch 164: ReduceLROnPlateau reducing learning rate to 1e-06.\n",
            "18/18 [==============================] - 0s 16ms/step - loss: 0.7576 - accuracy: 0.6408 - val_loss: 0.8284 - val_accuracy: 0.5581 - lr: 2.5000e-05\n",
            "Epoch 165/350\n",
            "18/18 [==============================] - 0s 15ms/step - loss: 0.7652 - accuracy: 0.6391 - val_loss: 0.8284 - val_accuracy: 0.5581 - lr: 1.0000e-06\n",
            "Epoch 166/350\n",
            "18/18 [==============================] - 0s 15ms/step - loss: 0.7674 - accuracy: 0.6338 - val_loss: 0.8284 - val_accuracy: 0.5581 - lr: 1.0000e-06\n",
            "Epoch 167/350\n",
            "18/18 [==============================] - 0s 15ms/step - loss: 0.7663 - accuracy: 0.6303 - val_loss: 0.8284 - val_accuracy: 0.5581 - lr: 1.0000e-06\n",
            "Epoch 168/350\n",
            "18/18 [==============================] - 0s 15ms/step - loss: 0.7589 - accuracy: 0.6356 - val_loss: 0.8284 - val_accuracy: 0.5581 - lr: 1.0000e-06\n",
            "Epoch 169/350\n",
            "18/18 [==============================] - 0s 15ms/step - loss: 0.7904 - accuracy: 0.6232 - val_loss: 0.8283 - val_accuracy: 0.5581 - lr: 1.0000e-06\n",
            "Epoch 170/350\n",
            "18/18 [==============================] - 0s 14ms/step - loss: 0.7743 - accuracy: 0.6373 - val_loss: 0.8283 - val_accuracy: 0.5581 - lr: 1.0000e-06\n",
            "Epoch 171/350\n",
            "18/18 [==============================] - 0s 13ms/step - loss: 0.7994 - accuracy: 0.6092 - val_loss: 0.8283 - val_accuracy: 0.5581 - lr: 1.0000e-06\n",
            "Epoch 172/350\n",
            "18/18 [==============================] - 0s 14ms/step - loss: 0.7657 - accuracy: 0.6391 - val_loss: 0.8283 - val_accuracy: 0.5581 - lr: 1.0000e-06\n",
            "Epoch 173/350\n",
            "18/18 [==============================] - 0s 16ms/step - loss: 0.7451 - accuracy: 0.6602 - val_loss: 0.8283 - val_accuracy: 0.5581 - lr: 1.0000e-06\n",
            "Epoch 174/350\n",
            "18/18 [==============================] - 0s 18ms/step - loss: 0.7530 - accuracy: 0.6408 - val_loss: 0.8283 - val_accuracy: 0.5581 - lr: 1.0000e-06\n",
            "Epoch 00174: early stopping\n"
          ]
        }
      ]
    },
    {
      "cell_type": "code",
      "source": [
        "score = model.evaluate(X_test, Y_test, verbose=1)\n",
        "print('\\n', 'Normal Test accuracy:', score[1])"
      ],
      "metadata": {
        "colab": {
          "base_uri": "https://localhost:8080/"
        },
        "id": "4o7DasaVxckE",
        "outputId": "42fa9fcf-073d-49bd-cee3-74ba17e8e106"
      },
      "execution_count": 28,
      "outputs": [
        {
          "output_type": "stream",
          "name": "stdout",
          "text": [
            "3/3 [==============================] - 0s 6ms/step - loss: 1.0504 - accuracy: 0.4767\n",
            "\n",
            " Normal Test accuracy: 0.4767441749572754\n"
          ]
        }
      ]
    },
    {
      "cell_type": "code",
      "source": [
        "#save and convert model into tfjs format\n",
        "model.save(model_loc+\"trained_model.keras\")\n",
        "tfjs.converters.save_keras_model(model, model_loc+\"tfjs_model\")"
      ],
      "metadata": {
        "colab": {
          "base_uri": "https://localhost:8080/"
        },
        "id": "ZYthgpO6hjxb",
        "outputId": "a2098c3d-401e-4d59-e35f-c88008c6b2d8"
      },
      "execution_count": 49,
      "outputs": [
        {
          "output_type": "stream",
          "name": "stderr",
          "text": [
            "WARNING:absl:You are saving your model as an HDF5 file via `model.save()` or `keras.saving.save_model(model)`. This file format is considered legacy. We recommend using instead the native Keras format, e.g. `model.save('my_model.keras')` or `keras.saving.save_model(model, 'my_model.keras')`. \n"
          ]
        },
        {
          "output_type": "stream",
          "name": "stdout",
          "text": [
            "failed to lookup keras version from the file,\n",
            "    this is likely a weight only file\n"
          ]
        }
      ]
    },
    {
      "cell_type": "code",
      "source": [
        "#labels = label.unique()\n",
        "y_hat = model.predict(X_test)\n",
        "y = np.round(y_hat)\n",
        "\n",
        "y_pred = np.argmax(y_hat, axis=1)\n",
        "y_pred = y_pred+1\n",
        "y_true = np.argmax(Y_test, axis=1)\n",
        "y_true = y_true+1\n",
        "\n",
        "cm = confusion_matrix(y_true, y_pred, labels=[1,2,3])\n",
        "#cm = confusion_matrix(y_true, y_pred, labels=labels.astype('int'))\n",
        "f, ax=plt.subplots(figsize=(5,5))\n",
        "sns.heatmap(cm,annot=True,linewidths=1.5,linecolor=\"red\",fmt=\".0f\",ax=ax)\n",
        "plt.xlabel(\"y_pred\")\n",
        "plt.ylabel(\"y_true\")\n",
        "plt.show()\n",
        "\n",
        "target_names = ['class 1', 'class 2', 'class 3']\n",
        "\n",
        "print(classification_report(y_true, y_pred, target_names=target_names))"
      ],
      "metadata": {
        "colab": {
          "base_uri": "https://localhost:8080/",
          "height": 662
        },
        "id": "2oKLZP6g0Ip4",
        "outputId": "6904f4d0-9301-483f-90ca-cba88516e344"
      },
      "execution_count": 29,
      "outputs": [
        {
          "output_type": "stream",
          "name": "stdout",
          "text": [
            "\u001b[1m3/3\u001b[0m \u001b[32m━━━━━━━━━━━━━━━━━━━━\u001b[0m\u001b[37m\u001b[0m \u001b[1m1s\u001b[0m 215ms/step\n"
          ]
        },
        {
          "output_type": "display_data",
          "data": {
            "text/plain": [
              "<Figure size 500x500 with 2 Axes>"
            ],
            "image/png": "[encoded data removed]"
          },
          "metadata": {}
        },
        {
          "output_type": "stream",
          "name": "stdout",
          "text": [
            "              precision    recall  f1-score   support\n",
            "\n",
            "     class 1       0.42      0.67      0.52        36\n",
            "     class 2       0.43      0.32      0.37        31\n",
            "     class 3       0.83      0.26      0.40        19\n",
            "\n",
            "    accuracy                           0.45        86\n",
            "   macro avg       0.56      0.42      0.43        86\n",
            "weighted avg       0.52      0.45      0.44        86\n",
            "\n"
          ]
        }
      ]
    },
    {
      "cell_type": "code",
      "source": [
        "#from google.colab import files\n",
        "fig = plt.plot(history.history[\"accuracy\"],label = \"train\", color='green')\n",
        "plt.plot(history.history[\"val_accuracy\"],label = \"val\", color='red')\n",
        "plt.legend(loc='upper left')\n",
        "plt.xlabel(\"epochs\")\n",
        "plt.ylabel(\"accuracy\")\n",
        "plt.title(\"accuracy by epochs\")\n",
        "#plt.savefig('acc.png')\n",
        "#files.download('acc.png')\n",
        "plt.show()"
      ],
      "metadata": {
        "colab": {
          "base_uri": "https://localhost:8080/",
          "height": 472
        },
        "id": "tZlCyByj0TD0",
        "outputId": "f04edbb9-9c08-4980-a4cc-e4e6fdadbcf9"
      },
      "execution_count": null,
      "outputs": [
        {
          "output_type": "display_data",
          "data": {
            "text/plain": [
              "<Figure size 640x480 with 1 Axes>"
            ],
            "image/png": "[encoded data removed]"
          },
          "metadata": {}
        }
      ]
    },
    {
      "cell_type": "code",
      "source": [
        "fig = plt.plot(history.history[\"loss\"],label = \"train\", color='green')\n",
        "plt.plot(history.history[\"val_loss\"],label = \"val\", color='red')\n",
        "plt.legend(loc='upper left')\n",
        "plt.xlabel(\"epochs\")\n",
        "plt.ylabel(\"loss\")\n",
        "plt.title(\"loss by epochs\")\n",
        "#plt.savefig('loss.png')\n",
        "#files.download('loss.png')\n",
        "plt.show()"
      ],
      "metadata": {
        "colab": {
          "base_uri": "https://localhost:8080/",
          "height": 472
        },
        "id": "fKMe5qbr0crM",
        "outputId": "e4ffcb13-008c-4aff-ac6f-3ca1857e534e"
      },
      "execution_count": null,
      "outputs": [
        {
          "output_type": "display_data",
          "data": {
            "text/plain": [
              "<Figure size 640x480 with 1 Axes>"
            ],
            "image/png": "[encoded data removed]"
          },
          "metadata": {}
        }
      ]
    },
    {
      "cell_type": "code",
      "source": [],
      "metadata": {
        "id": "TIWhYa5c0f1m"
      },
      "execution_count": null,
      "outputs": []
    }
  ]
}